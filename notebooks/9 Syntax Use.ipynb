{
 "cells": [
  {
   "cell_type": "code",
   "execution_count": 1,
   "metadata": {},
   "outputs": [],
   "source": [
    "import spacy"
   ]
  },
  {
   "cell_type": "code",
   "execution_count": 2,
   "metadata": {},
   "outputs": [
    {
     "data": {
      "text/plain": [
       "0"
      ]
     },
     "execution_count": 2,
     "metadata": {},
     "output_type": "execute_result"
    }
   ],
   "source": [
    "import subprocess\n",
    "command = \"python -m spacy download pt_core_news_sm\".split()\n",
    "subprocess.call(command)"
   ]
  },
  {
   "cell_type": "markdown",
   "metadata": {},
   "source": [
    "# POS and Dependency Parsing\n",
    "read documentation at https://spacy.io/api/token\n",
    "\n",
    "Tagsets at http://universaldependencies.org/u/dep/ and https://github.com/explosion/spaCy/blob/master/spacy/lang/pt/tag_map.py\n",
    "\n",
    "Dependency parsing theory https://web.stanford.edu/~jurafsky/slp3/13.pdf\n",
    "\n"
   ]
  },
  {
   "cell_type": "code",
   "execution_count": 45,
   "metadata": {},
   "outputs": [
    {
     "name": "stdout",
     "output_type": "stream",
     "text": [
      "O cachorro latiu e seu dono gritou\n"
     ]
    }
   ],
   "source": [
    "nlp = spacy.load('pt_core_news_sm')\n",
    "sentence = \"O cachorro latiu e seu dono gritou\"\n",
    "doc = nlp(sentence)\n",
    "print(doc.text)"
   ]
  },
  {
   "cell_type": "code",
   "execution_count": 46,
   "metadata": {},
   "outputs": [
    {
     "name": "stdout",
     "output_type": "stream",
     "text": [
      "O O DET\n",
      "cachorro cachorro NOUN\n",
      "latiu latir VERB\n",
      "e e CCONJ\n",
      "seu seu DET\n",
      "dono dono NOUN\n",
      "gritou gritar VERB\n"
     ]
    }
   ],
   "source": [
    "for token in doc:\n",
    "    print(token.text, token.lemma_, token.pos_)"
   ]
  },
  {
   "cell_type": "code",
   "execution_count": 47,
   "metadata": {},
   "outputs": [
    {
     "name": "stdout",
     "output_type": "stream",
     "text": [
      "O det cachorro\n",
      "cachorro nsubj latiu\n",
      "latiu ROOT latiu\n",
      "e cc gritou\n",
      "seu det dono\n",
      "dono nsubj gritou\n",
      "gritou conj latiu\n"
     ]
    }
   ],
   "source": [
    "for token in doc:\n",
    "    print(token.text, token.dep_, token.head)"
   ]
  },
  {
   "cell_type": "markdown",
   "metadata": {},
   "source": [
    "# Noun phrases"
   ]
  },
  {
   "cell_type": "code",
   "execution_count": 48,
   "metadata": {},
   "outputs": [],
   "source": [
    "for chunk in doc.noun_chunks:\n",
    "    print(chunk.text, chunk.root.text, chunk.root.dep_,\n",
    "            chunk.root.head.text)"
   ]
  },
  {
   "cell_type": "code",
   "execution_count": 49,
   "metadata": {},
   "outputs": [
    {
     "data": {
      "text/plain": [
       "[[O, cachorro], [seu, dono]]"
      ]
     },
     "execution_count": 49,
     "metadata": {},
     "output_type": "execute_result"
    }
   ],
   "source": [
    "def get_nchunks(doc):\n",
    "    nchunks = []\n",
    "    nheads = []\n",
    "    for token in doc:\n",
    "        if token.dep_ in ['nsubj', 'obj', 'iobj', 'obl']:\n",
    "            nheads.append(token)\n",
    "    for token in nheads:\n",
    "        nchunk = []\n",
    "        for word in token.subtree:\n",
    "            if word.pos_ in ['DET', 'NOUN']:\n",
    "                nchunk.append(word)\n",
    "        nchunks.append(nchunk)\n",
    "    return nchunks\n",
    "get_nchunks(doc)"
   ]
  },
  {
   "cell_type": "markdown",
   "metadata": {},
   "source": [
    "# Clauses"
   ]
  },
  {
   "cell_type": "code",
   "execution_count": null,
   "metadata": {},
   "outputs": [],
   "source": []
  },
  {
   "cell_type": "markdown",
   "metadata": {},
   "source": [
    "# Coordination"
   ]
  },
  {
   "cell_type": "code",
   "execution_count": null,
   "metadata": {},
   "outputs": [],
   "source": []
  },
  {
   "cell_type": "markdown",
   "metadata": {},
   "source": [
    "# Other parsers\n",
    "### LX-Parser\n",
    "http://lxcenter.di.fc.ul.pt/tools/pt/conteudo/LXParser.html#standalone\n"
   ]
  },
  {
   "cell_type": "code",
   "execution_count": null,
   "metadata": {},
   "outputs": [],
   "source": []
  }
 ],
 "metadata": {
  "kernelspec": {
   "display_name": "Python 3",
   "language": "python",
   "name": "python3"
  },
  "language_info": {
   "codemirror_mode": {
    "name": "ipython",
    "version": 3
   },
   "file_extension": ".py",
   "mimetype": "text/x-python",
   "name": "python",
   "nbconvert_exporter": "python",
   "pygments_lexer": "ipython3",
   "version": "3.6.8"
  }
 },
 "nbformat": 4,
 "nbformat_minor": 2
}
