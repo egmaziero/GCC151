{
 "cells": [
  {
   "cell_type": "markdown",
   "metadata": {},
   "source": [
    "# Corpus compilation\n",
    "- text type and genres\n",
    "- characteristics according to task"
   ]
  },
  {
   "cell_type": "code",
   "execution_count": 1,
   "metadata": {},
   "outputs": [],
   "source": [
    "import urllib3\n",
    "import re\n",
    "from bs4 import BeautifulSoup\n",
    "import os\n",
    "import justext"
   ]
  },
  {
   "cell_type": "code",
   "execution_count": 2,
   "metadata": {
    "scrolled": false
   },
   "outputs": [],
   "source": [
    "urllib3.disable_warnings(urllib3.exceptions.InsecureRequestWarning)\n",
    "user_agent = {'user-agent': 'Mozilla/5.0 (Windows NT 6.1; Win64; x64)'}\n",
    "\n",
    "http = urllib3.PoolManager(10, headers=user_agent)\n",
    "\n",
    "\n",
    "class Crawler:\n",
    "    \n",
    "    def __init__(self, corpus_path, max_files, seed_url, url_pattern):\n",
    "        self.corpus_path = corpus_path\n",
    "        self.max_files = max_files\n",
    "        self.seed_url = seed_url\n",
    "        self.url_pattern = url_pattern\n",
    "        self.visited_links = {}\n",
    "        self.to_be_visited = []\n",
    "        \n",
    "        if not os.path.exists(self.corpus_path):\n",
    "            os.makedirs(self.corpus_path)\n",
    "        \n",
    "    def crawl(self):\n",
    "        first_urls = self.get_page(self.seed_url)\n",
    "        self.add_links(first_urls)\n",
    "        next_link = self.get_next_link()\n",
    "        \n",
    "        file_counter = 1\n",
    "        while next_link and file_counter < self.max_files:\n",
    "            links = self.get_page(next_link)\n",
    "            self.add_links(links)\n",
    "            next_link = self.get_next_link()\n",
    "            file_counter += 1\n",
    "    \n",
    "    def get_page(self, url):\n",
    "        print(\"getting page {}\".format(url))\n",
    "        response = http.request('GET', url)\n",
    "\n",
    "        # store text content\n",
    "        paragraphs = justext.justext(response.data, justext.get_stoplist(\"Portuguese\"))\n",
    "        with open(\"{}/{}.txt\".format(self.corpus_path, url.replace(\".\", \"_\").replace(\"/\",\"-\")), \"w\") as output_file:\n",
    "            for paragraph in paragraphs:\n",
    "                if not paragraph.is_boilerplate:\n",
    "                    output_file.write(paragraph.text)\n",
    "        \n",
    "        # get links\n",
    "        soup = BeautifulSoup(response.data, 'html.parser')\n",
    "        links = [link.get('href') for link in soup.findAll('a', attrs={'href': re.compile(self.url_pattern)})]\n",
    "\n",
    "        return links\n",
    "\n",
    "    def add_links(self, links):\n",
    "        links = list(set(links))\n",
    "        self.to_be_visited.extend([link for link in links if link not in self.visited_links])\n",
    "\n",
    "    def get_next_link(self):\n",
    "        next_link = self.to_be_visited.pop(0)\n",
    "        self.visited_links[next_link] = None\n",
    "        return next_link"
   ]
  },
  {
   "cell_type": "code",
   "execution_count": 3,
   "metadata": {
    "scrolled": true
   },
   "outputs": [],
   "source": [
    "crawler_tecnologia = Crawler(\"data/corpora/tecnologia\", 50, \"https://tecnoblog.net/281950/\", \"^https://tecnoblog\\.net/\\d+\")\n",
    "crawler_politica = Crawler(\"data/corpora/politica\", 50, \"http://blogs.opovo.com.br/politica/\",\n",
    "                           \"^http://blogs\\.opovo\\.com\\.br/politica/\\d+\")"
   ]
  },
  {
   "cell_type": "code",
   "execution_count": 4,
   "metadata": {
    "scrolled": true
   },
   "outputs": [
    {
     "name": "stdout",
     "output_type": "stream",
     "text": [
      "getting page http://blogs.opovo.com.br/politica/\n",
      "getting page http://blogs.opovo.com.br/politica/2019/04/09/projeto-regula-jogos-eletronicos-como-esporte-e-gamers-como-atletas/\n",
      "getting page http://blogs.opovo.com.br/politica/2019/04/09/projeto-regula-jogos-eletronicos-como-esporte-e-gamers-como-atletas/#respond\n",
      "getting page http://blogs.opovo.com.br/politica/2019/04/09/deputado-cearense-quer-convocar-novo-ministro-da-educacao-para-prestar-esclarecimentos/\n",
      "getting page http://blogs.opovo.com.br/politica/2019/04/08/analise-escolha-de-olavista-para-o-mec-pode-ampliar-desgaste-com-militares/#respond\n",
      "getting page http://blogs.opovo.com.br/politica/2019/04/08/bolsonaro-demite-ministro-da-educacao-e-anuncia-substituto/#respond\n",
      "getting page http://blogs.opovo.com.br/politica/2019/04/06/decisao-de-retirar-maracanau-de-programa-foi-de-moro-diz-deputado/\n",
      "getting page http://blogs.opovo.com.br/politica/2019/04/03/guedes-diz-que-quem-discorda-da-necessidade-da-reforma-da-previdencia-tem-que-ser-internado/#respond\n",
      "getting page http://blogs.opovo.com.br/politica/2019/04/03/em-israel-bolsonaro-critica-leis-de-desarmamento-conheca-a-legislacao-a-respeito-israelense-sobre-posse-e-porte/\n",
      "getting page http://blogs.opovo.com.br/politica/2019/04/03/fraca-timida-e-opaca-diz-guimaraes-sobre-atuacao-de-guedes-na-ccjc/\n",
      "getting page http://blogs.opovo.com.br/politica/2019/04/08/quem-e-o-novo-ministro-da-educacao-de-jair-bolsonaro/\n",
      "getting page http://blogs.opovo.com.br/politica/2019/04/03/fraca-timida-e-opaca-diz-guimaraes-sobre-atuacao-de-guedes-na-ccjc/#respond\n",
      "getting page http://blogs.opovo.com.br/politica/2019/04/04/sergio-moro-posta-selfie-com-calendario-no-twitter-par-provar-que-perfil-e-verdadeiro/#respond\n",
      "getting page http://blogs.opovo.com.br/politica/2019/04/03/guedes-diz-que-quem-discorda-da-necessidade-da-reforma-da-previdencia-tem-que-ser-internado/\n",
      "getting page http://blogs.opovo.com.br/politica/2019/04/09/deputado-cearense-quer-convocar-novo-ministro-da-educacao-para-prestar-esclarecimentos/#respond\n",
      "getting page http://blogs.opovo.com.br/politica/2019/04/08/bolsonaro-demite-ministro-da-educacao-e-anuncia-substituto/\n",
      "getting page http://blogs.opovo.com.br/politica/2019/04/04/sergio-moro-posta-selfie-com-calendario-no-twitter-par-provar-que-perfil-e-verdadeiro/\n",
      "getting page http://blogs.opovo.com.br/politica/2019/04/08/quem-e-o-novo-ministro-da-educacao-de-jair-bolsonaro/#respond\n",
      "getting page http://blogs.opovo.com.br/politica/2019/04/06/decisao-de-retirar-maracanau-de-programa-foi-de-moro-diz-deputado/#respond\n",
      "getting page http://blogs.opovo.com.br/politica/2019/04/08/analise-escolha-de-olavista-para-o-mec-pode-ampliar-desgaste-com-militares/\n",
      "getting page http://blogs.opovo.com.br/politica/2019/04/03/em-israel-bolsonaro-critica-leis-de-desarmamento-conheca-a-legislacao-a-respeito-israelense-sobre-posse-e-porte/#respond\n",
      "getting page http://blogs.opovo.com.br/politica/2019/04/09/projeto-regula-jogos-eletronicos-como-esporte-e-gamers-como-atletas/#respond\n",
      "getting page http://blogs.opovo.com.br/politica/2017/10/06/capitao-wagner-volta-atras-com-projeto-que-proibe-venda-de-armas-de-brinquedo/\n",
      "getting page http://blogs.opovo.com.br/politica/2017/10/06/capitao-wagner-volta-atras-com-projeto-que-proibe-venda-de-armas-de-brinquedo/\n",
      "getting page http://blogs.opovo.com.br/politica/2019/04/09/deputado-cearense-quer-convocar-novo-ministro-da-educacao-para-prestar-esclarecimentos/#respond\n",
      "getting page http://blogs.opovo.com.br/politica/2019/04/08/bolsonaro-demite-ministro-da-educacao-e-anuncia-substituto/\n",
      "getting page http://blogs.opovo.com.br/politica/2019/04/08/quem-e-o-novo-ministro-da-educacao-de-jair-bolsonaro/\n",
      "getting page http://blogs.opovo.com.br/politica/2019/04/08/analise-escolha-de-olavista-para-o-mec-pode-ampliar-desgaste-com-militares/\n",
      "getting page http://blogs.opovo.com.br/politica/2019/04/03/em-israel-bolsonaro-critica-leis-de-desarmamento-conheca-a-legislacao-a-respeito-israelense-sobre-posse-e-porte/\n",
      "getting page http://blogs.opovo.com.br/politica/2019/03/28/bolsonaro-muda-tom-e-diz-que-ideia-e-rememorar-nao-comemorar-golpe-de-1964/\n",
      "getting page http://blogs.opovo.com.br/politica/2019/03/27/nao-vou-jogar-domino-com-lula-e-temer-no-xadrez-diz-bolsonaro-sobre-articulacao/\n",
      "getting page http://blogs.opovo.com.br/politica/2019/04/06/decisao-de-retirar-maracanau-de-programa-foi-de-moro-diz-deputado/#respond\n",
      "getting page http://blogs.opovo.com.br/politica/2019/04/03/fraca-timida-e-opaca-diz-guimaraes-sobre-atuacao-de-guedes-na-ccjc/\n",
      "getting page http://blogs.opovo.com.br/politica/2019/04/02/nove-cearenses-sao-deputados-por-outros-estados-veja-quem-sao/\n",
      "getting page http://blogs.opovo.com.br/politica/2019/03/27/nao-vou-jogar-domino-com-lula-e-temer-no-xadrez-diz-bolsonaro-sobre-articulacao/\n",
      "getting page http://blogs.opovo.com.br/politica/2019/04/08/bolsonaro-demite-ministro-da-educacao-e-anuncia-substituto/\n",
      "getting page http://blogs.opovo.com.br/politica/2019/03/28/bolsonaro-muda-tom-e-diz-que-ideia-e-rememorar-nao-comemorar-golpe-de-1964/\n",
      "getting page http://blogs.opovo.com.br/politica/2019/04/03/em-israel-bolsonaro-critica-leis-de-desarmamento-conheca-a-legislacao-a-respeito-israelense-sobre-posse-e-porte/#comment-32628\n",
      "getting page http://blogs.opovo.com.br/politica/2019/04/03/em-israel-bolsonaro-critica-leis-de-desarmamento-conheca-a-legislacao-a-respeito-israelense-sobre-posse-e-porte/#comment-32901\n",
      "getting page http://blogs.opovo.com.br/politica/2019/04/03/em-israel-bolsonaro-critica-leis-de-desarmamento-conheca-a-legislacao-a-respeito-israelense-sobre-posse-e-porte/#respond\n",
      "getting page http://blogs.opovo.com.br/politica/2019/04/03/em-israel-bolsonaro-critica-leis-de-desarmamento-conheca-a-legislacao-a-respeito-israelense-sobre-posse-e-porte/#comment-32650\n",
      "getting page http://blogs.opovo.com.br/politica/2019/03/27/nao-vou-jogar-domino-com-lula-e-temer-no-xadrez-diz-bolsonaro-sobre-articulacao/\n",
      "getting page http://blogs.opovo.com.br/politica/2019/04/03/fraca-timida-e-opaca-diz-guimaraes-sobre-atuacao-de-guedes-na-ccjc/#comment-32621\n",
      "getting page http://blogs.opovo.com.br/politica/2019/04/03/fraca-timida-e-opaca-diz-guimaraes-sobre-atuacao-de-guedes-na-ccjc/#comment-32622\n",
      "getting page http://blogs.opovo.com.br/politica/2019/04/03/fraca-timida-e-opaca-diz-guimaraes-sobre-atuacao-de-guedes-na-ccjc/#comment-32616\n",
      "getting page http://blogs.opovo.com.br/politica/2019/04/03/fraca-timida-e-opaca-diz-guimaraes-sobre-atuacao-de-guedes-na-ccjc/#respond\n",
      "getting page http://blogs.opovo.com.br/politica/2019/04/03/fraca-timida-e-opaca-diz-guimaraes-sobre-atuacao-de-guedes-na-ccjc/#comment-32614\n",
      "getting page http://blogs.opovo.com.br/politica/2019/04/03/fraca-timida-e-opaca-diz-guimaraes-sobre-atuacao-de-guedes-na-ccjc/#comment-32623\n",
      "getting page http://blogs.opovo.com.br/politica/2019/04/03/fraca-timida-e-opaca-diz-guimaraes-sobre-atuacao-de-guedes-na-ccjc/#comment-32626\n",
      "getting page http://blogs.opovo.com.br/politica/2019/04/03/fraca-timida-e-opaca-diz-guimaraes-sobre-atuacao-de-guedes-na-ccjc/#comment-32632\n",
      "getting page https://tecnoblog.net/281950/\n",
      "getting page https://tecnoblog.net/282775/tv-oled-lg-b8-review/\n",
      "getting page https://tecnoblog.net/282790/amazon-libera-alexa-portugues-teste/\n",
      "getting page https://tecnoblog.net/283574/parlamento-europeu-artigo-13-copyright/\n",
      "getting page https://tecnoblog.net/282688/foruns-chans-deep-web-massacres/\n",
      "getting page https://tecnoblog.net/281740/elizabeth-warren-desmembrar-amazon-apple-facebook-google/\n",
      "getting page https://tecnoblog.net/281945/nvidia-fim-suporte-3d-vision/\n",
      "getting page https://tecnoblog.net/281942/boeing-737-max-8-acidentes-mcas/\n",
      "getting page https://tecnoblog.net/281350/dji-osmo-pocket-review/\n",
      "getting page https://tecnoblog.net/218285/intel-core-i9-reviews/\n",
      "getting page https://tecnoblog.net/281299/moto-g7-play-review/\n",
      "getting page https://tecnoblog.net/283095/samsung-chromebook-plus-v2-review/\n",
      "getting page https://tecnoblog.net/282336/jogos-nao-causam-violencia/\n",
      "getting page https://tecnoblog.net/263884/tecnocast-100-como-tudo-comecou/\n",
      "getting page https://tecnoblog.net/228453/oneplus-5t-reviews/\n",
      "getting page https://tecnoblog.net/282385/samsung-galaxy-buds-review/\n",
      "getting page https://tecnoblog.net/283244/lg-k12-plus-review/\n"
     ]
    },
    {
     "name": "stdout",
     "output_type": "stream",
     "text": [
      "getting page https://tecnoblog.net/281950/tecnocast-109-como-nascem-os-reviews/\n",
      "getting page https://tecnoblog.net/282772/disney-completa-compra-fox/\n",
      "getting page https://tecnoblog.net/159783/material-preto-mais-preto-de-todos-reflete-004-luz/\n",
      "getting page https://tecnoblog.net/231603/lg-tv-oled-enrolavel/\n",
      "getting page https://tecnoblog.net/282778/4g-velocidade-horario-pico-opensignal-2019/\n",
      "getting page https://tecnoblog.net/272175/tv-oled-sony-a8f-review/\n",
      "getting page https://tecnoblog.net/239766/lg-oled-tv-w8-c8-2018-lancamento-preco-brasil/\n",
      "getting page https://tecnoblog.net/231107/lg-tv-oled-8k-88-polegadas/\n",
      "getting page https://tecnoblog.net/283244/lg-k12-plus-review/\n",
      "getting page https://tecnoblog.net/283574/parlamento-europeu-artigo-13-copyright/\n",
      "getting page https://tecnoblog.net/282870/amazon-novo-kindle-2019/\n",
      "getting page https://tecnoblog.net/282688/foruns-chans-deep-web-massacres/\n",
      "getting page https://tecnoblog.net/281796/amazon-echo-alexa-portugues-brasil-beta/\n",
      "getting page https://tecnoblog.net/281740/elizabeth-warren-desmembrar-amazon-apple-facebook-google/\n",
      "getting page https://tecnoblog.net/282876/hacker-vazamento-dark-web-estante-virtual/\n",
      "getting page https://tecnoblog.net/281942/boeing-737-max-8-acidentes-mcas/\n",
      "getting page https://tecnoblog.net/281350/dji-osmo-pocket-review/\n",
      "getting page https://tecnoblog.net/282866/xiaomi-resultados-4t-2018/\n",
      "getting page https://tecnoblog.net/281299/moto-g7-play-review/\n",
      "getting page https://tecnoblog.net/282385/samsung-galaxy-buds-review/\n",
      "getting page https://tecnoblog.net/282336/jogos-nao-causam-violencia/\n",
      "getting page https://tecnoblog.net/283095/samsung-chromebook-plus-v2-review/\n",
      "getting page https://tecnoblog.net/245085/amazon-echo-gravou-conversa-particular/\n",
      "getting page https://tecnoblog.net/222409/microsoft-amazon-cortana-alexa-parceria/\n",
      "getting page https://tecnoblog.net/272541/amazon-gravacoes-alexa-usuario-errado/\n",
      "getting page https://tecnoblog.net/282688/foruns-chans-deep-web-massacres/\n",
      "getting page https://tecnoblog.net/283578/correios-projeto-entrega-compartilhada/\n",
      "getting page https://tecnoblog.net/281740/elizabeth-warren-desmembrar-amazon-apple-facebook-google/\n",
      "getting page https://tecnoblog.net/275738/artigos-11-13-uniao-europeia/\n",
      "getting page https://tecnoblog.net/281942/boeing-737-max-8-acidentes-mcas/\n",
      "getting page https://tecnoblog.net/281350/dji-osmo-pocket-review/\n",
      "getting page https://tecnoblog.net/245101/gdpr-privacidade-protecao-dados/\n",
      "getting page https://tecnoblog.net/283589/huawei-p30-pro-hands-on/\n"
     ]
    }
   ],
   "source": [
    "crawler_politica.crawl()\n",
    "crawler_tecnologia.crawl()"
   ]
  },
  {
   "cell_type": "code",
   "execution_count": null,
   "metadata": {},
   "outputs": [],
   "source": []
  },
  {
   "cell_type": "code",
   "execution_count": null,
   "metadata": {},
   "outputs": [],
   "source": []
  }
 ],
 "metadata": {
  "kernelspec": {
   "display_name": "Python 3",
   "language": "python",
   "name": "python3"
  },
  "language_info": {
   "codemirror_mode": {
    "name": "ipython",
    "version": 3
   },
   "file_extension": ".py",
   "mimetype": "text/x-python",
   "name": "python",
   "nbconvert_exporter": "python",
   "pygments_lexer": "ipython3",
   "version": "3.6.8"
  }
 },
 "nbformat": 4,
 "nbformat_minor": 2
}
