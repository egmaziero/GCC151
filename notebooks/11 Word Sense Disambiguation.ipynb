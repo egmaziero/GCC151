{
 "cells": [
  {
   "cell_type": "markdown",
   "metadata": {},
   "source": [
    "# Word Sense Disambiguation\n",
    "### Using wordnet\n",
    "Do not forget to donwload: ```nltk.download()```\n",
    "\n",
    "See http://www.nltk.org/howto/wordnet.html"
   ]
  },
  {
   "cell_type": "code",
   "execution_count": 2,
   "metadata": {},
   "outputs": [],
   "source": [
    "from nltk.corpus import wordnet"
   ]
  },
  {
   "cell_type": "code",
   "execution_count": 2,
   "metadata": {},
   "outputs": [
    {
     "data": {
      "text/plain": [
       "'a member of the genus Canis (probably descended from the common wolf) that has been domesticated by man since prehistoric times; occurs in many breeds'"
      ]
     },
     "execution_count": 2,
     "metadata": {},
     "output_type": "execute_result"
    }
   ],
   "source": [
    "wordnet.synset('dog.n.01').definition()"
   ]
  },
  {
   "cell_type": "code",
   "execution_count": 3,
   "metadata": {},
   "outputs": [
    {
     "name": "stdout",
     "output_type": "stream",
     "text": [
      "Synset('dog.n.01')\n",
      "0 -> a member of the genus Canis (probably descended from the common wolf) that has been domesticated by man since prehistoric times; occurs in many breeds\n",
      "Synset('frump.n.01')\n",
      "1 -> a dull unattractive unpleasant girl or woman\n",
      "Synset('dog.n.03')\n",
      "2 -> informal term for a man\n",
      "Synset('cad.n.01')\n",
      "3 -> someone who is morally reprehensible\n",
      "Synset('frank.n.02')\n",
      "4 -> a smooth-textured sausage of minced beef or pork usually smoked; often served on a bread roll\n",
      "Synset('pawl.n.01')\n",
      "5 -> a hinged catch that fits into a notch of a ratchet to move a wheel forward or prevent it from moving backward\n",
      "Synset('andiron.n.01')\n",
      "6 -> metal supports for logs in a fireplace\n",
      "Synset('chase.v.01')\n",
      "7 -> go after with the intent to catch\n"
     ]
    }
   ],
   "source": [
    "dog_synsets = wordnet.synsets('dog')\n",
    "for i, dog in enumerate(dog_synsets):\n",
    "    print(dog)\n",
    "    print('{} -> {}'.format(i, dog.definition()))"
   ]
  },
  {
   "cell_type": "code",
   "execution_count": 5,
   "metadata": {},
   "outputs": [
    {
     "name": "stdout",
     "output_type": "stream",
     "text": [
      "0\n",
      "Synset('andiron.n.01')\n",
      "metal supports for logs in a fireplace\n",
      "1\n",
      "Synset('dog.n.01')\n",
      "a member of the genus Canis (probably descended from the common wolf) that has been domesticated by man since prehistoric times; occurs in many breeds\n",
      "2\n",
      "Synset('frump.n.01')\n",
      "a dull unattractive unpleasant girl or woman\n",
      "3\n",
      "Synset('dog.n.03')\n",
      "informal term for a man\n",
      "4\n",
      "Synset('cad.n.01')\n",
      "someone who is morally reprehensible\n",
      "5\n",
      "Synset('frank.n.02')\n",
      "a smooth-textured sausage of minced beef or pork usually smoked; often served on a bread roll\n",
      "6\n",
      "Synset('pawl.n.01')\n",
      "a hinged catch that fits into a notch of a ratchet to move a wheel forward or prevent it from moving backward\n",
      "7\n",
      "Synset('andiron.n.01')\n",
      "metal supports for logs in a fireplace\n",
      "8\n",
      "9\n"
     ]
    }
   ],
   "source": [
    "for i in range(10):\n",
    "    try:\n",
    "        print(i)\n",
    "        dog_synset = wordnet.synset('dog.n.{}'.format(i))\n",
    "        print(dog_synset)\n",
    "        print(dog_synset.definition())\n",
    "    except:\n",
    "        pass"
   ]
  },
  {
   "cell_type": "code",
   "execution_count": 6,
   "metadata": {},
   "outputs": [
    {
     "name": "stdout",
     "output_type": "stream",
     "text": [
      "feline mammal usually having thick soft fur and no ability to roar: domestic cats; wildcats\n",
      "[Synset('carnivore.n.01')]\n",
      "[Synset('vertebrate.n.01')]\n"
     ]
    }
   ],
   "source": [
    "print(wordnet.synset('cat.n.01').definition())\n",
    "print(wordnet.synset('dog.n.01').lowest_common_hypernyms(wordnet.synset('cat.n.01')))\n",
    "print(wordnet.synset('dog.n.01').lowest_common_hypernyms(wordnet.synset('duck.n.01')))"
   ]
  },
  {
   "cell_type": "code",
   "execution_count": 7,
   "metadata": {},
   "outputs": [
    {
     "name": "stdout",
     "output_type": "stream",
     "text": [
      "Synset('lamp.n.01')\n",
      "0 -> an artificial source of visible illumination\n",
      "Synset('light.n.02')\n",
      "1 -> any device serving as a source of illumination\n",
      "Synset('source_of_illumination.n.01')\n",
      "2 -> any device serving as a source of visible electromagnetic radiation\n",
      "Synset('streetlight.n.01')\n",
      "3 -> a lamp supported on a lamppost; for illuminating a street\n",
      "Synset('light.n.01')\n",
      "4 -> (physics) electromagnetic radiation that can produce a visual sensation\n",
      "Synset('lux.n.01')\n",
      "5 -> a unit of illumination equal to 1 lumen per square meter; 0.0929 foot candle\n",
      "Synset('light.n.09')\n",
      "6 -> having abundant light or illumination\n"
     ]
    }
   ],
   "source": [
    "carro_synsets = wordnet.synsets('luz', lang='por')\n",
    "\n",
    "for i, c in enumerate(carro_synsets):\n",
    "    print(c)\n",
    "    print('{} -> {}'.format(i, c.definition()))"
   ]
  },
  {
   "cell_type": "markdown",
   "metadata": {},
   "source": [
    "# Lesk algorithm"
   ]
  },
  {
   "cell_type": "code",
   "execution_count": 13,
   "metadata": {},
   "outputs": [],
   "source": [
    "from nltk.wsd import lesk\n",
    "from nltk.tokenize import word_tokenize\n",
    "from py_translator import Translator\n",
    "\n",
    "def translate(text, dest='pt'):\n",
    "    return Translator().translate(text=text, dest=dest).text"
   ]
  },
  {
   "cell_type": "code",
   "execution_count": 7,
   "metadata": {},
   "outputs": [
    {
     "name": "stdout",
     "output_type": "stream",
     "text": [
      "Synset('dog.n.03') informal term for a man  ===>  termo informal para um homem\n"
     ]
    }
   ],
   "source": [
    "sentence = word_tokenize('this dog is your man')\n",
    "s = lesk(sentence, 'dog')\n",
    "\n",
    "print(s, s.definition(), \" ===> \", translate(s.definition()))"
   ]
  },
  {
   "cell_type": "code",
   "execution_count": 8,
   "metadata": {},
   "outputs": [
    {
     "name": "stdout",
     "output_type": "stream",
     "text": [
      "Synset('pawl.n.01') a hinged catch that fits into a notch of a ratchet to move a wheel forward or prevent it from moving backward  ===>  uma trava articulada que cabe em um entalhe de uma catraca para mover uma roda para a frente ou impedir que ela se mova para trás\n"
     ]
    }
   ],
   "source": [
    "sentence = word_tokenize('I love my dog, it is my friend')\n",
    "s = lesk(sentence, 'dog')\n",
    "\n",
    "print(s, s.definition(), \" ===> \", translate(s.definition()))"
   ]
  },
  {
   "cell_type": "code",
   "execution_count": 9,
   "metadata": {},
   "outputs": [
    {
     "name": "stdout",
     "output_type": "stream",
     "text": [
      "Synset('pawl.n.01') a hinged catch that fits into a notch of a ratchet to move a wheel forward or prevent it from moving backward  ===>  uma trava articulada que cabe em um entalhe de uma catraca para mover uma roda para a frente ou impedir que ela se mova para trás\n"
     ]
    }
   ],
   "source": [
    "sentence = word_tokenize('My animal is a dog')\n",
    "s = lesk(sentence, 'dog')\n",
    "\n",
    "print(s, s.definition(), \" ===> \", translate(s.definition()))"
   ]
  },
  {
   "cell_type": "code",
   "execution_count": 10,
   "metadata": {},
   "outputs": [
    {
     "name": "stdout",
     "output_type": "stream",
     "text": [
      "Synset('dog.n.01') a member of the genus Canis (probably descended from the common wolf) that has been domesticated by man since prehistoric times; occurs in many breeds  ===>  um membro do gênero Canis (provavelmente descendente do lobo comum) que foi domesticado pelo homem desde os tempos pré-históricos; ocorre em muitas raças\n"
     ]
    }
   ],
   "source": [
    "sentence = word_tokenize('My domesticated animal is a dog')\n",
    "s = lesk(sentence, 'dog')\n",
    "\n",
    "print(s, s.definition(), \" ===> \", translate(s.definition()))"
   ]
  },
  {
   "cell_type": "code",
   "execution_count": 10,
   "metadata": {},
   "outputs": [],
   "source": [
    "def wsd_pt(sentence, word):\n",
    "    sentence_en = translate(sentence, dest='en')\n",
    "    word_en = translate(word, dest='en')\n",
    "    synset = lesk(word_tokenize(sentence_en), word_en)\n",
    "    print(synset, translate(synset.definition()))"
   ]
  },
  {
   "cell_type": "code",
   "execution_count": 15,
   "metadata": {},
   "outputs": [
    {
     "name": "stdout",
     "output_type": "stream",
     "text": [
      "Synset('dog.n.01') um membro do gênero Canis (provavelmente descendente do lobo comum) que foi domesticado pelo homem desde os tempos pré-históricos; ocorre em muitas raças\n"
     ]
    }
   ],
   "source": [
    "wsd_pt('Meu cachorro é domesticado', 'cachorro')"
   ]
  },
  {
   "cell_type": "code",
   "execution_count": 16,
   "metadata": {},
   "outputs": [
    {
     "name": "stdout",
     "output_type": "stream",
     "text": [
      "Synset('dog.n.03') termo informal para um homem\n"
     ]
    }
   ],
   "source": [
    "wsd_pt('Esse cachorro é um homem', 'cachorro')"
   ]
  },
  {
   "cell_type": "code",
   "execution_count": null,
   "metadata": {},
   "outputs": [],
   "source": []
  }
 ],
 "metadata": {
  "kernelspec": {
   "display_name": "Python 3",
   "language": "python",
   "name": "python3"
  },
  "language_info": {
   "codemirror_mode": {
    "name": "ipython",
    "version": 3
   },
   "file_extension": ".py",
   "mimetype": "text/x-python",
   "name": "python",
   "nbconvert_exporter": "python",
   "pygments_lexer": "ipython3",
   "version": "3.6.8"
  }
 },
 "nbformat": 4,
 "nbformat_minor": 2
}
