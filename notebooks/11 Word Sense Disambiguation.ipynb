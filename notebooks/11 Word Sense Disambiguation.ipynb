{
 "cells": [
  {
   "cell_type": "markdown",
   "metadata": {},
   "source": [
    "# Word Sense Disambiguation\n",
    "### Using wordnet\n",
    "Do not forget to donwload: ```nltk.download()```\n",
    "\n",
    "See http://www.nltk.org/howto/wordnet.html"
   ]
  },
  {
   "cell_type": "code",
   "execution_count": 1,
   "metadata": {},
   "outputs": [],
   "source": [
    "from nltk.corpus import wordnet"
   ]
  },
  {
   "cell_type": "code",
   "execution_count": 2,
   "metadata": {},
   "outputs": [
    {
     "data": {
      "text/plain": [
       "'a member of the genus Canis (probably descended from the common wolf) that has been domesticated by man since prehistoric times; occurs in many breeds'"
      ]
     },
     "execution_count": 2,
     "metadata": {},
     "output_type": "execute_result"
    }
   ],
   "source": [
    "wordnet.synset('dog.n.01').definition()"
   ]
  },
  {
   "cell_type": "code",
   "execution_count": 3,
   "metadata": {},
   "outputs": [
    {
     "name": "stdout",
     "output_type": "stream",
     "text": [
      "Synset('dog.n.01')\n",
      "0 -> a member of the genus Canis (probably descended from the common wolf) that has been domesticated by man since prehistoric times; occurs in many breeds\n",
      "Synset('frump.n.01')\n",
      "1 -> a dull unattractive unpleasant girl or woman\n",
      "Synset('dog.n.03')\n",
      "2 -> informal term for a man\n",
      "Synset('cad.n.01')\n",
      "3 -> someone who is morally reprehensible\n",
      "Synset('frank.n.02')\n",
      "4 -> a smooth-textured sausage of minced beef or pork usually smoked; often served on a bread roll\n",
      "Synset('pawl.n.01')\n",
      "5 -> a hinged catch that fits into a notch of a ratchet to move a wheel forward or prevent it from moving backward\n",
      "Synset('andiron.n.01')\n",
      "6 -> metal supports for logs in a fireplace\n",
      "Synset('chase.v.01')\n",
      "7 -> go after with the intent to catch\n"
     ]
    }
   ],
   "source": [
    "dog_synsets = wordnet.synsets('dog')\n",
    "for i, dog in enumerate(dog_synsets):\n",
    "    print(dog)\n",
    "    print('{} -> {}'.format(i, dog.definition()))"
   ]
  },
  {
   "cell_type": "code",
   "execution_count": 4,
   "metadata": {},
   "outputs": [
    {
     "name": "stdout",
     "output_type": "stream",
     "text": [
      "[Synset('carnivore.n.01')]\n",
      "[Synset('vertebrate.n.01')]\n"
     ]
    }
   ],
   "source": [
    "print(wordnet.synset('dog.n.01').lowest_common_hypernyms(wordnet.synset('cat.n.01')))\n",
    "print(wordnet.synset('dog.n.01').lowest_common_hypernyms(wordnet.synset('duck.n.01')))"
   ]
  },
  {
   "cell_type": "code",
   "execution_count": 5,
   "metadata": {},
   "outputs": [
    {
     "name": "stdout",
     "output_type": "stream",
     "text": [
      "Synset('beach_wagon.n.01')\n",
      "0 -> a car that has a long body and rear door with space behind rear seat\n",
      "Synset('car.n.01')\n",
      "1 -> a motor vehicle with four wheels; usually propelled by an internal combustion engine\n",
      "Synset('car.n.02')\n",
      "2 -> a wheeled vehicle adapted to the rails of railroad\n",
      "Synset('cart.n.01')\n",
      "3 -> a heavy open wagon usually having two wheels and drawn by an animal\n"
     ]
    }
   ],
   "source": [
    "carro_synsets = wordnet.synsets('carro', lang='por')\n",
    "\n",
    "for i, c in enumerate(carro_synsets):\n",
    "    print(c)\n",
    "    print('{} -> {}'.format(i, c.definition()))"
   ]
  },
  {
   "cell_type": "markdown",
   "metadata": {},
   "source": [
    "# Lesk algorithm"
   ]
  },
  {
   "cell_type": "code",
   "execution_count": 6,
   "metadata": {},
   "outputs": [],
   "source": [
    "from nltk.wsd import lesk\n",
    "from nltk.tokenize import word_tokenize\n",
    "from py_translator import Translator\n",
    "\n",
    "def translate(text):\n",
    "    return Translator().translate(text=text, dest='pt').text"
   ]
  },
  {
   "cell_type": "code",
   "execution_count": 7,
   "metadata": {},
   "outputs": [
    {
     "name": "stdout",
     "output_type": "stream",
     "text": [
      "Synset('dog.n.03') informal term for a man  ===>  termo informal para um homem\n"
     ]
    }
   ],
   "source": [
    "sentence = word_tokenize('this dog is your man')\n",
    "s = lesk(sentence, 'dog')\n",
    "\n",
    "print(s, s.definition(), \" ===> \", translate(s.definition()))"
   ]
  },
  {
   "cell_type": "code",
   "execution_count": 8,
   "metadata": {},
   "outputs": [
    {
     "name": "stdout",
     "output_type": "stream",
     "text": [
      "Synset('pawl.n.01') a hinged catch that fits into a notch of a ratchet to move a wheel forward or prevent it from moving backward  ===>  uma trava articulada que cabe em um entalhe de uma catraca para mover uma roda para a frente ou impedir que ela se mova para trás\n"
     ]
    }
   ],
   "source": [
    "sentence = word_tokenize('I love my dog, it is my friend')\n",
    "s = lesk(sentence, 'dog')\n",
    "\n",
    "print(s, s.definition(), \" ===> \", translate(s.definition()))"
   ]
  },
  {
   "cell_type": "code",
   "execution_count": 9,
   "metadata": {},
   "outputs": [
    {
     "name": "stdout",
     "output_type": "stream",
     "text": [
      "Synset('pawl.n.01') a hinged catch that fits into a notch of a ratchet to move a wheel forward or prevent it from moving backward  ===>  uma trava articulada que cabe em um entalhe de uma catraca para mover uma roda para a frente ou impedir que ela se mova para trás\n"
     ]
    }
   ],
   "source": [
    "sentence = word_tokenize('My animal is a dog')\n",
    "s = lesk(sentence, 'dog')\n",
    "\n",
    "print(s, s.definition(), \" ===> \", translate(s.definition()))"
   ]
  },
  {
   "cell_type": "code",
   "execution_count": 10,
   "metadata": {},
   "outputs": [
    {
     "name": "stdout",
     "output_type": "stream",
     "text": [
      "Synset('dog.n.01') a member of the genus Canis (probably descended from the common wolf) that has been domesticated by man since prehistoric times; occurs in many breeds  ===>  um membro do gênero Canis (provavelmente descendente do lobo comum) que foi domesticado pelo homem desde os tempos pré-históricos; ocorre em muitas raças\n"
     ]
    }
   ],
   "source": [
    "sentence = word_tokenize('My domesticated animal is a dog')\n",
    "s = lesk(sentence, 'dog')\n",
    "\n",
    "print(s, s.definition(), \" ===> \", translate(s.definition()))"
   ]
  },
  {
   "cell_type": "code",
   "execution_count": null,
   "metadata": {},
   "outputs": [],
   "source": []
  }
 ],
 "metadata": {
  "kernelspec": {
   "display_name": "Python 3",
   "language": "python",
   "name": "python3"
  },
  "language_info": {
   "codemirror_mode": {
    "name": "ipython",
    "version": 3
   },
   "file_extension": ".py",
   "mimetype": "text/x-python",
   "name": "python",
   "nbconvert_exporter": "python",
   "pygments_lexer": "ipython3",
   "version": "3.6.8"
  }
 },
 "nbformat": 4,
 "nbformat_minor": 2
}
