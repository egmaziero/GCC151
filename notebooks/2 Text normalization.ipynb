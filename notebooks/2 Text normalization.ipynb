{
 "cells": [
  {
   "cell_type": "code",
   "execution_count": null,
   "metadata": {},
   "outputs": [],
   "source": [
    "import nltk"
   ]
  },
  {
   "cell_type": "markdown",
   "metadata": {},
   "source": [
    "# download some resources needed"
   ]
  },
  {
   "cell_type": "code",
   "execution_count": null,
   "metadata": {},
   "outputs": [],
   "source": [
    "nltk.download()"
   ]
  },
  {
   "cell_type": "markdown",
   "metadata": {},
   "source": [
    "# open a text file"
   ]
  },
  {
   "cell_type": "code",
   "execution_count": null,
   "metadata": {},
   "outputs": [],
   "source": []
  },
  {
   "cell_type": "markdown",
   "metadata": {},
   "source": [
    "# create routines of normalization\n",
    "the routines below should be all used or just some of them, depending on the application"
   ]
  },
  {
   "cell_type": "code",
   "execution_count": 3,
   "metadata": {},
   "outputs": [],
   "source": [
    "def remove_accents(text):\n",
    "    return text\n",
    "\n",
    "def remove_punctuation(text):\n",
    "    return text\n",
    "\n",
    "def tokenize_sentences(text):\n",
    "    return text\n",
    "\n",
    "def tokenize_words(text):\n",
    "    return text\n",
    "\n",
    "def lemmatize(text):\n",
    "    return text\n",
    "\n",
    "def stemmize(text):\n",
    "    return text"
   ]
  },
  {
   "cell_type": "markdown",
   "metadata": {},
   "source": [
    "# use different pipelines of normalization"
   ]
  },
  {
   "cell_type": "code",
   "execution_count": null,
   "metadata": {},
   "outputs": [],
   "source": [
    "def normalization_pipeline(text, remove_accents=False, remove_punctuation=False, tokenize_sentences=False,\n",
    "                           tokenize_words=False, lemmatize=False, stemmize=False):\n",
    "\n",
    "    text = remove_accents(text) if remove_accents else text\n",
    "    text = remove_punctuation(text) if remove_punctuation else text\n",
    "    text = tokenize_sentences(text) if tokenize_sentences else text\n",
    "    text = tokenize_words(text) if tokenize_words else text\n",
    "    text = lemmatize(text) if lemmatize else text\n",
    "    text = stemmize(text) if stemmize else text\n",
    "    \n",
    "    return text"
   ]
  },
  {
   "cell_type": "markdown",
   "metadata": {},
   "source": [
    "# test your normalizations"
   ]
  },
  {
   "cell_type": "code",
   "execution_count": null,
   "metadata": {},
   "outputs": [],
   "source": []
  }
 ],
 "metadata": {
  "kernelspec": {
   "display_name": "Python 3",
   "language": "python",
   "name": "python3"
  },
  "language_info": {
   "codemirror_mode": {
    "name": "ipython",
    "version": 3
   },
   "file_extension": ".py",
   "mimetype": "text/x-python",
   "name": "python",
   "nbconvert_exporter": "python",
   "pygments_lexer": "ipython3",
   "version": "3.6.8"
  }
 },
 "nbformat": 4,
 "nbformat_minor": 2
}
