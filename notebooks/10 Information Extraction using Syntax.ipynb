{
 "cells": [
  {
   "cell_type": "code",
   "execution_count": 1,
   "metadata": {},
   "outputs": [],
   "source": [
    "import spacy"
   ]
  },
  {
   "cell_type": "code",
   "execution_count": 2,
   "metadata": {},
   "outputs": [],
   "source": [
    "def get_nps(doc):\n",
    "    nchunks = []\n",
    "    nheads = []\n",
    "    for token in doc:\n",
    "        if token.dep_ in ['nsubj', 'obj', 'iobj']:\n",
    "            nheads.append(token)\n",
    "    \n",
    "    for token in nheads:\n",
    "        nchunk = [(token)]\n",
    "        for word in token.subtree:\n",
    "             if word.pos_ in ['DET', 'NOUN']:\n",
    "                nchunk.append(word)\n",
    "        nchunks.append(nchunk)\n",
    "    return nchunks\n",
    "\n",
    "def get_nmodifiers(head, doc):\n",
    "    pass"
   ]
  },
  {
   "cell_type": "code",
   "execution_count": 5,
   "metadata": {},
   "outputs": [
    {
     "name": "stdout",
     "output_type": "stream",
     "text": [
      "O DET <artd>|ART|M|S|@>N det menino\n",
      "menino NOUN <np-def>|N|M|S|@SUBJ> nsubj prova\n",
      "foi VERB <mv>|V|PS|3S|IND|@FS-STA cop prova\n",
      "bem ADV <quant>|ADV|@>A advmod na\n",
      "na DET <arti>|ART|F|S|@>N case prova\n",
      "prova NOUN <np-idf>|N|F|S|@<SC ROOT prova\n",
      "difícil ADJ ADJ|F|S|@N< amod prova\n",
      "e CCONJ <co-acc>|KC|@CO cc colou\n",
      "a DET <artd>|ART|F|S|@>N det menina\n",
      "menina NOUN <np-def>|N|F|S|@SUBJ> nsubj colou\n",
      "colou VERB <mv>|V|PS|3S|IND|@FS-STA conj prova\n",
      "a DET <artd>|ART|F|S|@>N det resposta\n",
      "resposta NOUN <np-def>|N|F|S|@<ACC obj colou\n",
      "errada VERB <mv>|V|PCP|F|S|@ICL-N< acl resposta\n",
      ". PUNCT PU|@PU punct prova\n",
      "[[menino, O, menino], [menina, a, menina], [resposta, a, resposta]]\n"
     ]
    }
   ],
   "source": [
    "s = \"O menino foi bem na prova difícil e a menina colou a resposta errada.\"\n",
    "nlp = spacy.load('pt_core_news_sm')\n",
    "doc = nlp(s)\n",
    "for token in doc:\n",
    "    print(token.text, token.pos_, token.tag_, token.dep_, token.head)\n",
    "nps = get_nps(doc)\n",
    "print(nps)"
   ]
  },
  {
   "cell_type": "code",
   "execution_count": 7,
   "metadata": {},
   "outputs": [
    {
     "name": "stdout",
     "output_type": "stream",
     "text": [
      "Os DET <artd>|ART|M|P|@>N det meninos\n",
      "meninos SYM <np-def>|N|M|P|@SUBJ> nsubj foram\n",
      "foram VERB <mv>|V|PS|3P|IND|@FS-STA cop prova\n",
      "bem ADV <quant>|ADV|@<ADVL advmod na\n",
      "na DET <arti>|ART|F|S|@>N xcomp foram\n",
      "prova NOUN <np-idf>|N|F|S|@<SC ROOT prova\n",
      "e CCONJ <co-acc>|KC|@CO cc meninas\n",
      "as DET <artd>|ART|F|P|@>N det meninas\n",
      "meninas NOUN <cjt>|<np-def>|N|F|P|@P< conj prova\n",
      ". PUNCT PU|@PU punct prova\n",
      "[[meninos, Os]]\n"
     ]
    }
   ],
   "source": [
    "s = \"Os meninos foram bem na prova e as meninas.\"\n",
    "nlp = spacy.load('pt_core_news_sm')\n",
    "doc = nlp(s)\n",
    "for token in doc:\n",
    "    print(token.text, token.pos_, token.tag_, token.dep_, token.head)\n",
    "nps = get_nps(doc)\n",
    "print(nps)"
   ]
  },
  {
   "cell_type": "markdown",
   "metadata": {},
   "source": [
    "# Utilizar o córpus obtido para P1\n",
    "- Obter os núcleos (head) dos sintagmas nominais (SN)\n",
    "- Obter os modificadores do núcleo do SN\n",
    "- Para os núcleos dos sintagmas nominais, e os seus modificadores\n",
    "- Criar um dicionário:\n",
    "``` \n",
    "{\"núcleo\": [(\"modificador1\", freq), (\"modificador2\", freq)]}\n",
    "```\n",
    "- Produzir frases, com o seguinte padrão:\n",
    "```\n",
    "\"núcleo\" verbo_ser \"modificador\" mais frequente.\n",
    "```\n",
    "- o verbo ser, deve ser conjugado como \"é\" para núcleos de sintagmas nominais no singular e como \"são\" para núcleos de sintagmas nominais no plural"
   ]
  },
  {
   "cell_type": "code",
   "execution_count": null,
   "metadata": {},
   "outputs": [],
   "source": []
  }
 ],
 "metadata": {
  "kernelspec": {
   "display_name": "Python 3",
   "language": "python",
   "name": "python3"
  },
  "language_info": {
   "codemirror_mode": {
    "name": "ipython",
    "version": 3
   },
   "file_extension": ".py",
   "mimetype": "text/x-python",
   "name": "python",
   "nbconvert_exporter": "python",
   "pygments_lexer": "ipython3",
   "version": "3.6.8"
  }
 },
 "nbformat": 4,
 "nbformat_minor": 2
}
