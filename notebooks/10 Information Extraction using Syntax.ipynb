{
 "cells": [
  {
   "cell_type": "code",
   "execution_count": null,
   "metadata": {},
   "outputs": [],
   "source": [
    "import spacy"
   ]
  },
  {
   "cell_type": "code",
   "execution_count": null,
   "metadata": {},
   "outputs": [],
   "source": [
    "def get_nps(doc):\n",
    "    nchunks = []\n",
    "    nheads = []\n",
    "    for token in doc:\n",
    "        if token.dep_ in ['nsubj', 'obj', 'iobj']:\n",
    "            nheads.append(token)\n",
    "    \n",
    "    for token in nheads:\n",
    "        nchunk = [(token)]\n",
    "        for word in token.subtree:\n",
    "             if word.pos_ in ['DET', 'NOUN']:\n",
    "                nchunk.append(word)\n",
    "        nchunks.append(nchunk)\n",
    "    return nchunks\n",
    "\n",
    "def get_nmodifiers(head, doc):\n",
    "    pass"
   ]
  },
  {
   "cell_type": "code",
   "execution_count": null,
   "metadata": {},
   "outputs": [],
   "source": [
    "s = \"O menino foi bem na prova difícil e a menina colou a resposta errada.\"\n",
    "nlp = spacy.load('pt_core_news_sm')\n",
    "doc = nlp(s)\n",
    "for token in doc:\n",
    "    print(token.text, token.pos_, token.dep_, token.head)\n",
    "nps = get_np(doc)\n",
    "print(nps)"
   ]
  },
  {
   "cell_type": "markdown",
   "metadata": {},
   "source": [
    "# Utilizar o córpus obtido para P1\n",
    "- Obter os sintagmas nominais (DET - Noun)\n",
    "- Obter os modificadores dos sintagmas nominais\n",
    "- Para sintagmas nominais, obter os seus modificadores\n",
    "- Criar um dicionário:\n",
    "``` \n",
    "{\"sintagma nominal\": [(\"modificador1\", freq), (\"modificador2\", freq)]}\n",
    "```\n",
    "- Produzir frases, com o seguinte padrão:\n",
    "```\n",
    "\"sintagma nominal\" verbo_ser \"modificador\" mais frequente.\n",
    "```\n",
    "- o verbo ser, deve ser conjugado como \"é\" para sintagmas nominais no singular e como \"são\" para sintagmas nominais no plural"
   ]
  },
  {
   "cell_type": "code",
   "execution_count": null,
   "metadata": {},
   "outputs": [],
   "source": []
  }
 ],
 "metadata": {
  "kernelspec": {
   "display_name": "Python 3",
   "language": "python",
   "name": "python3"
  },
  "language_info": {
   "codemirror_mode": {
    "name": "ipython",
    "version": 3
   },
   "file_extension": ".py",
   "mimetype": "text/x-python",
   "name": "python",
   "nbconvert_exporter": "python",
   "pygments_lexer": "ipython3",
   "version": "3.6.8"
  }
 },
 "nbformat": 4,
 "nbformat_minor": 2
}
