{
 "cells": [
  {
   "cell_type": "code",
   "execution_count": 2,
   "metadata": {},
   "outputs": [],
   "source": [
    "import nltk\n",
    "import spacy"
   ]
  },
  {
   "cell_type": "markdown",
   "metadata": {},
   "source": [
    "# download nltk resources"
   ]
  },
  {
   "cell_type": "code",
   "execution_count": 3,
   "metadata": {},
   "outputs": [
    {
     "name": "stdout",
     "output_type": "stream",
     "text": [
      "showing info https://raw.githubusercontent.com/nltk/nltk_data/gh-pages/index.xml\n"
     ]
    },
    {
     "data": {
      "text/plain": [
       "True"
      ]
     },
     "execution_count": 3,
     "metadata": {},
     "output_type": "execute_result"
    }
   ],
   "source": [
    "nltk.download()"
   ]
  },
  {
   "cell_type": "markdown",
   "metadata": {},
   "source": [
    "# download spacy model"
   ]
  },
  {
   "cell_type": "code",
   "execution_count": null,
   "metadata": {},
   "outputs": [],
   "source": [
    "import subprocess\n",
    "command = \"python -m spacy download pt_core_news_sm\".split()\n",
    "subprocess.call(command)"
   ]
  },
  {
   "cell_type": "markdown",
   "metadata": {},
   "source": [
    "# download nlpnet models"
   ]
  },
  {
   "cell_type": "code",
   "execution_count": null,
   "metadata": {},
   "outputs": [],
   "source": [
    "import wget\n",
    "urls = [\"http://nilc.icmc.usp.br/nlpnet/data/pos-pt.tgz\", # POS tagger\n",
    "        \"http://nilc.icmc.usp.br/nlpnet/data/srl-pt.tgz\", # SRL tagger\n",
    "        \"http://nilc.icmc.usp.br/nlpnet/data/dependency-en.tgz\"] # Syntax parser\n",
    "for url in urls:\n",
    "    wget.download(url)"
   ]
  },
  {
   "cell_type": "markdown",
   "metadata": {},
   "source": [
    "# Load corpora\n",
    "- obtained from http://www.inf.pucrs.br/peg/lucelenelopes/ll_crp.html and http://conteudo.icmc.usp.br/pessoas/taspardo/sucinto/cstnews.html\n",
    "- https://drive.google.com/file/d/1_NLZI_HA_vdKN6wJyZvY3cyhsBtCCWqj/view?usp=sharing"
   ]
  },
  {
   "cell_type": "code",
   "execution_count": 4,
   "metadata": {},
   "outputs": [],
   "source": [
    "import os\n",
    "corpora_path = '../data/corpora/'\n",
    "corpora_dirs = os.listdir(corpora_path)\n",
    "corpora_dirs = [d for d in corpora_dirs if d not in '.DS_Store']\n",
    "\n",
    "corpora = {}\n",
    "for corpus in corpora_dirs:\n",
    "    if corpus != 'CSTNews 6.0':\n",
    "        files = [os.path.join(corpora_path + corpus, f) \\\n",
    "                 for f in os.listdir(corpora_path + corpus) \\\n",
    "                 if os.path.isfile(os.path.join(corpora_path + corpus, f))]\n",
    "        corpora[corpus] = {'raw': [], 'tokenized': [], 'words': []}\n",
    "        for file in files:\n",
    "            with open(file, 'r', encoding='iso-8859-1') as txt_file:\n",
    "                lines = txt_file.readlines()\n",
    "                corpora[corpus]['raw'].append(lines)    "
   ]
  },
  {
   "cell_type": "code",
   "execution_count": 9,
   "metadata": {},
   "outputs": [
    {
     "data": {
      "text/plain": [
       "281"
      ]
     },
     "execution_count": 9,
     "metadata": {},
     "output_type": "execute_result"
    }
   ],
   "source": [
    "len(corpora['Pediatria']['raw'])"
   ]
  },
  {
   "cell_type": "markdown",
   "metadata": {},
   "source": [
    "# explore nltk\n",
    "http://www.nltk.org/howto/portuguese_en.html"
   ]
  },
  {
   "cell_type": "code",
   "execution_count": 10,
   "metadata": {},
   "outputs": [],
   "source": [
    "sent_tokenizer = nltk.data.load('tokenizers/punkt/portuguese.pickle')\n",
    "\n",
    "# segment sentences per line\n",
    "for corpus, infos in corpora.items():\n",
    "    sentences = []\n",
    "    corpora[corpus]['words'] = []\n",
    "    words = []\n",
    "    \n",
    "    for text in infos['raw']:\n",
    "        for line in text:\n",
    "            tmp_sentences = sent_tokenizer.tokenize(line.strip())\n",
    "            tokens = [nltk.tokenize.word_tokenize(sentence) for sentence in tmp_sentences]\n",
    "            sentences.append(tokens)\n",
    "            for doc in tokens:\n",
    "                words.extend([w for w in doc])\n",
    "            \n",
    "    corpora[corpus]['tokenized'] = sentences\n",
    "    corpora[corpus]['words'].extend(words)\n",
    "\n",
    "# find and join collocations\n",
    "# http://www.nltk.org/howto/collocations.html"
   ]
  },
  {
   "cell_type": "code",
   "execution_count": 14,
   "metadata": {},
   "outputs": [
    {
     "data": {
      "text/plain": [
       "[[['Em',\n",
       "   'é',\n",
       "   'apresentada',\n",
       "   'a',\n",
       "   'arquitetura',\n",
       "   'QoSOS',\n",
       "   'que',\n",
       "   'provê',\n",
       "   'QoS',\n",
       "   'adaptável',\n",
       "   'nos',\n",
       "   'subsistemas',\n",
       "   'de',\n",
       "   'rede',\n",
       "   'e',\n",
       "   'de',\n",
       "   'escalonamento',\n",
       "   'de',\n",
       "   'processos',\n",
       "   'multimídia',\n",
       "   'em',\n",
       "   'GPOS',\n",
       "   '.']]]"
      ]
     },
     "execution_count": 14,
     "metadata": {},
     "output_type": "execute_result"
    }
   ],
   "source": [
    "corpora['Processamento_paralelo']['processed'][100:101]"
   ]
  },
  {
   "cell_type": "code",
   "execution_count": 21,
   "metadata": {},
   "outputs": [],
   "source": [
    "# collocations\n",
    "bigram_measures = nltk.collocations.BigramAssocMeasures()\n",
    "trigram_measures = nltk.collocations.TrigramAssocMeasures()\n",
    "finder = nltk.collocations.BigramCollocationFinder.from_words(corpora['Mineracao_dados']['words'])\n",
    "finder.apply_freq_filter(3)"
   ]
  },
  {
   "cell_type": "code",
   "execution_count": 22,
   "metadata": {},
   "outputs": [
    {
     "name": "stdout",
     "output_type": "stream",
     "text": [
      "[('APUD', 'Adamo'), ('Breadth', 'First'), ('Difference', 'Metri'), ('Foniatras', 'Europeus'), ('Interaction', 'Detection'), ('Momentos', 'Sazonais'), ('Navigation', 'Plan'), ('Paralelo', 'Entrelaçado'), ('Plan', 'Definition'), ('Roteamento', 'Paralelo'), ('Scatter', 'Plots'), ('Suavização', 'Exponencial'), ('Top', 'Down'), ('Vida', 'Urbana'), ('bebida', 'alcoólica'), ('by', 'Example'), ('downward', 'closure'), ('escolhade', 'mapeadorrandômico'), ('Browser', 'Type'), ('Congressional', 'Voting')]\n"
     ]
    }
   ],
   "source": [
    "print(finder.nbest(bigram_measures.pmi, 20))"
   ]
  },
  {
   "cell_type": "markdown",
   "metadata": {},
   "source": [
    "# explore spacy\n",
    "https://spacy.io/models/pt"
   ]
  },
  {
   "cell_type": "code",
   "execution_count": null,
   "metadata": {},
   "outputs": [],
   "source": []
  },
  {
   "cell_type": "markdown",
   "metadata": {},
   "source": [
    "# explore nlpnet\n",
    "http://nilc.icmc.usp.br/nlpnet/intro.html#basic-usage"
   ]
  },
  {
   "cell_type": "code",
   "execution_count": null,
   "metadata": {},
   "outputs": [],
   "source": []
  }
 ],
 "metadata": {
  "kernelspec": {
   "display_name": "Python 3",
   "language": "python",
   "name": "python3"
  },
  "language_info": {
   "codemirror_mode": {
    "name": "ipython",
    "version": 3
   },
   "file_extension": ".py",
   "mimetype": "text/x-python",
   "name": "python",
   "nbconvert_exporter": "python",
   "pygments_lexer": "ipython3",
   "version": "3.6.8"
  }
 },
 "nbformat": 4,
 "nbformat_minor": 2
}
