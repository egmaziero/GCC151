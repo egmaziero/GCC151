{
 "cells": [
  {
   "cell_type": "code",
   "execution_count": 23,
   "metadata": {},
   "outputs": [],
   "source": [
    "import nltk"
   ]
  },
  {
   "cell_type": "markdown",
   "metadata": {},
   "source": [
    "# open a text file"
   ]
  },
  {
   "cell_type": "code",
   "execution_count": 26,
   "metadata": {},
   "outputs": [],
   "source": [
    "with open(\"text.txt\", \"r\") as text_file:\n",
    "    lines = text_file.readlines()"
   ]
  },
  {
   "cell_type": "code",
   "execution_count": 27,
   "metadata": {},
   "outputs": [
    {
     "data": {
      "text/plain": [
       "['O presidente também disse que quer fazer do Brasil um país de primeiro mundo e que reconhecerá os militares neste contexto. Prometeu ainda debater uma nova \"retaguarda jurídica\" para os militares.\\n',\n",
       " '\\n',\n",
       " '“Temos uma missão de mudar o Brasil. Esse foi nosso propósito, essa foi nossa bandeira ao longo de quatro anos andando por todo Brasil. [...] O que eu quero para o senhores, meus irmãos militares. Sou do Exército brasileiro, mas tenho uma formação muito semelhante à de vocês. A minha última unidade foi a Brigada de Infantaria Paraquedista. Eu quero a vocês conversando, ouvindo, debatendo uma retaguarda jurídica para que vocês possam exercer seus trabalhos, em especial nas missões extraordinárias da tropa”, afirmou o presidente.']"
      ]
     },
     "execution_count": 27,
     "metadata": {},
     "output_type": "execute_result"
    }
   ],
   "source": [
    "lines"
   ]
  },
  {
   "cell_type": "markdown",
   "metadata": {},
   "source": [
    "# using tokenizer"
   ]
  },
  {
   "cell_type": "code",
   "execution_count": 28,
   "metadata": {},
   "outputs": [],
   "source": [
    "lines = [nltk.tokenize.word_tokenize(line) for line in lines]"
   ]
  },
  {
   "cell_type": "code",
   "execution_count": 29,
   "metadata": {},
   "outputs": [
    {
     "data": {
      "text/plain": [
       "[['O',\n",
       "  'presidente',\n",
       "  'também',\n",
       "  'disse',\n",
       "  'que',\n",
       "  'quer',\n",
       "  'fazer',\n",
       "  'do',\n",
       "  'Brasil',\n",
       "  'um',\n",
       "  'país',\n",
       "  'de',\n",
       "  'primeiro',\n",
       "  'mundo',\n",
       "  'e',\n",
       "  'que',\n",
       "  'reconhecerá',\n",
       "  'os',\n",
       "  'militares',\n",
       "  'neste',\n",
       "  'contexto',\n",
       "  '.',\n",
       "  'Prometeu',\n",
       "  'ainda',\n",
       "  'debater',\n",
       "  'uma',\n",
       "  'nova',\n",
       "  '``',\n",
       "  'retaguarda',\n",
       "  'jurídica',\n",
       "  \"''\",\n",
       "  'para',\n",
       "  'os',\n",
       "  'militares',\n",
       "  '.'],\n",
       " [],\n",
       " ['“',\n",
       "  'Temos',\n",
       "  'uma',\n",
       "  'missão',\n",
       "  'de',\n",
       "  'mudar',\n",
       "  'o',\n",
       "  'Brasil',\n",
       "  '.',\n",
       "  'Esse',\n",
       "  'foi',\n",
       "  'nosso',\n",
       "  'propósito',\n",
       "  ',',\n",
       "  'essa',\n",
       "  'foi',\n",
       "  'nossa',\n",
       "  'bandeira',\n",
       "  'ao',\n",
       "  'longo',\n",
       "  'de',\n",
       "  'quatro',\n",
       "  'anos',\n",
       "  'andando',\n",
       "  'por',\n",
       "  'todo',\n",
       "  'Brasil',\n",
       "  '.',\n",
       "  '[',\n",
       "  '...',\n",
       "  ']',\n",
       "  'O',\n",
       "  'que',\n",
       "  'eu',\n",
       "  'quero',\n",
       "  'para',\n",
       "  'o',\n",
       "  'senhores',\n",
       "  ',',\n",
       "  'meus',\n",
       "  'irmãos',\n",
       "  'militares',\n",
       "  '.',\n",
       "  'Sou',\n",
       "  'do',\n",
       "  'Exército',\n",
       "  'brasileiro',\n",
       "  ',',\n",
       "  'mas',\n",
       "  'tenho',\n",
       "  'uma',\n",
       "  'formação',\n",
       "  'muito',\n",
       "  'semelhante',\n",
       "  'à',\n",
       "  'de',\n",
       "  'vocês',\n",
       "  '.',\n",
       "  'A',\n",
       "  'minha',\n",
       "  'última',\n",
       "  'unidade',\n",
       "  'foi',\n",
       "  'a',\n",
       "  'Brigada',\n",
       "  'de',\n",
       "  'Infantaria',\n",
       "  'Paraquedista',\n",
       "  '.',\n",
       "  'Eu',\n",
       "  'quero',\n",
       "  'a',\n",
       "  'vocês',\n",
       "  'conversando',\n",
       "  ',',\n",
       "  'ouvindo',\n",
       "  ',',\n",
       "  'debatendo',\n",
       "  'uma',\n",
       "  'retaguarda',\n",
       "  'jurídica',\n",
       "  'para',\n",
       "  'que',\n",
       "  'vocês',\n",
       "  'possam',\n",
       "  'exercer',\n",
       "  'seus',\n",
       "  'trabalhos',\n",
       "  ',',\n",
       "  'em',\n",
       "  'especial',\n",
       "  'nas',\n",
       "  'missões',\n",
       "  'extraordinárias',\n",
       "  'da',\n",
       "  'tropa',\n",
       "  '”',\n",
       "  ',',\n",
       "  'afirmou',\n",
       "  'o',\n",
       "  'presidente',\n",
       "  '.']]"
      ]
     },
     "execution_count": 29,
     "metadata": {},
     "output_type": "execute_result"
    }
   ],
   "source": [
    "lines"
   ]
  },
  {
   "cell_type": "markdown",
   "metadata": {},
   "source": [
    "# split words using spaces"
   ]
  },
  {
   "cell_type": "code",
   "execution_count": 30,
   "metadata": {},
   "outputs": [],
   "source": [
    "words = []\n",
    "for line in lines:\n",
    "    words.extend(line)"
   ]
  },
  {
   "cell_type": "code",
   "execution_count": 31,
   "metadata": {},
   "outputs": [
    {
     "data": {
      "text/plain": [
       "list"
      ]
     },
     "execution_count": 31,
     "metadata": {},
     "output_type": "execute_result"
    }
   ],
   "source": [
    "type(words)"
   ]
  },
  {
   "cell_type": "code",
   "execution_count": 32,
   "metadata": {
    "scrolled": true
   },
   "outputs": [
    {
     "name": "stdout",
     "output_type": "stream",
     "text": [
      "['o', 'presidente', 'também', 'disse', 'que', 'quer', 'fazer', 'do', 'brasil', 'um', 'país', 'de', 'primeiro', 'mundo', 'e', 'que', 'reconhecerá', 'os', 'militares', 'neste', 'contexto', '.', 'prometeu', 'ainda', 'debater', 'uma', 'nova', '``', 'retaguarda', 'jurídica', \"''\", 'para', 'os', 'militares', '.', '“', 'temos', 'uma', 'missão', 'de', 'mudar', 'o', 'brasil', '.', 'esse', 'foi', 'nosso', 'propósito', ',', 'essa', 'foi', 'nossa', 'bandeira', 'ao', 'longo', 'de', 'quatro', 'anos', 'andando', 'por', 'todo', 'brasil', '.', '[', '...', ']', 'o', 'que', 'eu', 'quero', 'para', 'o', 'senhores', ',', 'meus', 'irmãos', 'militares', '.', 'sou', 'do', 'exército', 'brasileiro', ',', 'mas', 'tenho', 'uma', 'formação', 'muito', 'semelhante', 'à', 'de', 'vocês', '.', 'a', 'minha', 'última', 'unidade', 'foi', 'a', 'brigada', 'de', 'infantaria', 'paraquedista', '.', 'eu', 'quero', 'a', 'vocês', 'conversando', ',', 'ouvindo', ',', 'debatendo', 'uma', 'retaguarda', 'jurídica', 'para', 'que', 'vocês', 'possam', 'exercer', 'seus', 'trabalhos', ',', 'em', 'especial', 'nas', 'missões', 'extraordinárias', 'da', 'tropa', '”', ',', 'afirmou', 'o', 'presidente', '.']\n"
     ]
    }
   ],
   "source": [
    "words = [w.lower() for w in words]\n",
    "print(words)"
   ]
  },
  {
   "cell_type": "code",
   "execution_count": 39,
   "metadata": {},
   "outputs": [],
   "source": [
    "stopwords = nltk.corpus.stopwords.words('portuguese')"
   ]
  },
  {
   "cell_type": "code",
   "execution_count": 41,
   "metadata": {},
   "outputs": [],
   "source": [
    "words = [w for w in words if w not in stopwords]"
   ]
  },
  {
   "cell_type": "markdown",
   "metadata": {},
   "source": [
    "# count the words grouping the equals"
   ]
  },
  {
   "cell_type": "code",
   "execution_count": 42,
   "metadata": {},
   "outputs": [],
   "source": [
    "vocab_freq = {}\n",
    "for word in words:\n",
    "    if word in vocab_freq:\n",
    "        vocab_freq[word] += 1\n",
    "    else:\n",
    "        vocab_freq[word] = 1"
   ]
  },
  {
   "cell_type": "code",
   "execution_count": 43,
   "metadata": {},
   "outputs": [
    {
     "data": {
      "text/plain": [
       "{'presidente': 2,\n",
       " 'disse': 1,\n",
       " 'quer': 1,\n",
       " 'fazer': 1,\n",
       " 'brasil': 3,\n",
       " 'país': 1,\n",
       " 'primeiro': 1,\n",
       " 'mundo': 1,\n",
       " 'reconhecerá': 1,\n",
       " 'militares': 3,\n",
       " 'neste': 1,\n",
       " 'contexto': 1,\n",
       " '.': 8,\n",
       " 'prometeu': 1,\n",
       " 'ainda': 1,\n",
       " 'debater': 1,\n",
       " 'nova': 1,\n",
       " '``': 1,\n",
       " 'retaguarda': 2,\n",
       " 'jurídica': 2,\n",
       " \"''\": 1,\n",
       " '“': 1,\n",
       " 'missão': 1,\n",
       " 'mudar': 1,\n",
       " 'propósito': 1,\n",
       " ',': 7,\n",
       " 'bandeira': 1,\n",
       " 'longo': 1,\n",
       " 'quatro': 1,\n",
       " 'anos': 1,\n",
       " 'andando': 1,\n",
       " 'todo': 1,\n",
       " '[': 1,\n",
       " '...': 1,\n",
       " ']': 1,\n",
       " 'quero': 2,\n",
       " 'senhores': 1,\n",
       " 'irmãos': 1,\n",
       " 'exército': 1,\n",
       " 'brasileiro': 1,\n",
       " 'formação': 1,\n",
       " 'semelhante': 1,\n",
       " 'última': 1,\n",
       " 'unidade': 1,\n",
       " 'brigada': 1,\n",
       " 'infantaria': 1,\n",
       " 'paraquedista': 1,\n",
       " 'conversando': 1,\n",
       " 'ouvindo': 1,\n",
       " 'debatendo': 1,\n",
       " 'possam': 1,\n",
       " 'exercer': 1,\n",
       " 'trabalhos': 1,\n",
       " 'especial': 1,\n",
       " 'missões': 1,\n",
       " 'extraordinárias': 1,\n",
       " 'tropa': 1,\n",
       " '”': 1,\n",
       " 'afirmou': 1}"
      ]
     },
     "execution_count": 43,
     "metadata": {},
     "output_type": "execute_result"
    }
   ],
   "source": [
    "vocab_freq"
   ]
  },
  {
   "cell_type": "markdown",
   "metadata": {},
   "source": [
    "# plot some statistics\n",
    "* distinct words\n",
    "* 10% most frequent\n",
    "* 10% less frequent\n",
    "* etc."
   ]
  },
  {
   "cell_type": "code",
   "execution_count": 44,
   "metadata": {},
   "outputs": [
    {
     "name": "stdout",
     "output_type": "stream",
     "text": [
      "[\"''\", ',', '.', '...', '[', ']', '``', 'afirmou', 'ainda', 'andando', 'anos', 'bandeira', 'brasil', 'brasileiro', 'brigada', 'contexto', 'conversando', 'debatendo', 'debater', 'disse', 'especial', 'exercer', 'extraordinárias', 'exército', 'fazer', 'formação', 'infantaria', 'irmãos', 'jurídica', 'longo', 'militares', 'missão', 'missões', 'mudar', 'mundo', 'neste', 'nova', 'ouvindo', 'paraquedista', 'país', 'possam', 'presidente', 'primeiro', 'prometeu', 'propósito', 'quatro', 'quer', 'quero', 'reconhecerá', 'retaguarda', 'semelhante', 'senhores', 'todo', 'trabalhos', 'tropa', 'unidade', 'última', '“', '”']\n"
     ]
    }
   ],
   "source": [
    "import operator\n",
    "import math\n",
    "\n",
    "ordered_vocab_freq = sorted(vocab_freq.items(), key=operator.itemgetter(1))\n",
    "\n",
    "ten_perc = math.floor(len(ordered_vocab_freq) / 10)\n",
    "\n",
    "print(sorted(vocab_freq.keys()))"
   ]
  },
  {
   "cell_type": "code",
   "execution_count": 45,
   "metadata": {},
   "outputs": [
    {
     "name": "stdout",
     "output_type": "stream",
     "text": [
      "disse => 1\n",
      "quer => 1\n",
      "fazer => 1\n",
      "país => 1\n",
      "primeiro => 1\n"
     ]
    }
   ],
   "source": [
    "for k, v in ordered_vocab_freq[:ten_perc]:\n",
    "    print(\"{} => {}\".format(k, v))"
   ]
  },
  {
   "cell_type": "code",
   "execution_count": 46,
   "metadata": {},
   "outputs": [
    {
     "name": "stdout",
     "output_type": "stream",
     "text": [
      ". => 8\n",
      ", => 7\n",
      "militares => 3\n",
      "brasil => 3\n",
      "quero => 2\n"
     ]
    }
   ],
   "source": [
    "reversed_freq = list(reversed(ordered_vocab_freq))\n",
    "for k, v in reversed_freq[:ten_perc]:\n",
    "    print(\"{} => {}\".format(k, v))"
   ]
  },
  {
   "cell_type": "code",
   "execution_count": null,
   "metadata": {},
   "outputs": [],
   "source": []
  },
  {
   "cell_type": "code",
   "execution_count": null,
   "metadata": {},
   "outputs": [],
   "source": []
  }
 ],
 "metadata": {
  "kernelspec": {
   "display_name": "Python 3",
   "language": "python",
   "name": "python3"
  },
  "language_info": {
   "codemirror_mode": {
    "name": "ipython",
    "version": 3
   },
   "file_extension": ".py",
   "mimetype": "text/x-python",
   "name": "python",
   "nbconvert_exporter": "python",
   "pygments_lexer": "ipython3",
   "version": "3.6.8"
  }
 },
 "nbformat": 4,
 "nbformat_minor": 2
}
