{
 "cells": [
  {
   "cell_type": "markdown",
   "metadata": {},
   "source": [
    "# open a text file"
   ]
  },
  {
   "cell_type": "code",
   "execution_count": 3,
   "metadata": {},
   "outputs": [],
   "source": [
    "with open(\"text.txt\", \"r\") as text_file:\n",
    "    lines = text_file.readlines()"
   ]
  },
  {
   "cell_type": "markdown",
   "metadata": {},
   "source": [
    "# split words using spaces"
   ]
  },
  {
   "cell_type": "code",
   "execution_count": 4,
   "metadata": {},
   "outputs": [],
   "source": [
    "words = []\n",
    "for line in lines:\n",
    "    words.extend(line.split())"
   ]
  },
  {
   "cell_type": "markdown",
   "metadata": {},
   "source": [
    "# count the words grouping the equals"
   ]
  },
  {
   "cell_type": "code",
   "execution_count": 5,
   "metadata": {},
   "outputs": [],
   "source": [
    "vocab_freq = {}\n",
    "for word in words:\n",
    "    if word in vocab_freq:\n",
    "        vocab_freq[word] += 1\n",
    "    else:\n",
    "        vocab_freq[word] = 1"
   ]
  },
  {
   "cell_type": "markdown",
   "metadata": {},
   "source": [
    "# plot some statistics\n",
    "* distinct words\n",
    "* 10% most frequent\n",
    "* 10% less frequent\n",
    "* etc."
   ]
  },
  {
   "cell_type": "code",
   "execution_count": 25,
   "metadata": {},
   "outputs": [
    {
     "name": "stdout",
     "output_type": "stream",
     "text": [
      "['\"retaguarda', 'A', 'Brasil', 'Brasil.', 'Brigada', 'Esse', 'Eu', 'Exército', 'Infantaria', 'O', 'Paraquedista.', 'Prometeu', 'Sou', '[...]', 'a', 'afirmou', 'ainda', 'andando', 'anos', 'ao', 'bandeira', 'brasileiro,', 'contexto.', 'conversando,', 'da', 'de', 'debatendo', 'debater', 'disse', 'do', 'e', 'em', 'especial', 'essa', 'eu', 'exercer', 'extraordinárias', 'fazer', 'foi', 'formação', 'irmãos', 'jurídica', 'jurídica\"', 'longo', 'mas', 'meus', 'militares', 'militares.', 'minha', 'missão', 'missões', 'mudar', 'muito', 'mundo', 'nas', 'neste', 'nossa', 'nosso', 'nova', 'o', 'os', 'ouvindo,', 'para', 'país', 'por', 'possam', 'presidente', 'presidente.', 'primeiro', 'propósito,', 'quatro', 'que', 'quer', 'quero', 'reconhecerá', 'retaguarda', 'semelhante', 'senhores,', 'seus', 'também', 'tenho', 'todo', 'trabalhos,', 'tropa”,', 'um', 'uma', 'unidade', 'vocês', 'vocês.', 'à', 'última', '“Temos']\n",
      "presidente => 1\n",
      "também => 1\n",
      "disse => 1\n",
      "quer => 1\n",
      "fazer => 1\n",
      "Brasil => 1\n",
      "um => 1\n",
      "país => 1\n",
      "primeiro => 1\n",
      "de => 5\n",
      "uma => 4\n",
      "que => 4\n",
      "foi => 3\n",
      "o => 3\n",
      "para => 3\n",
      "vocês => 2\n",
      "a => 2\n",
      "quero => 2\n"
     ]
    }
   ],
   "source": [
    "import operator\n",
    "import math\n",
    "\n",
    "ordered_vocab_freq = sorted(vocab_freq.items(), key=operator.itemgetter(1))\n",
    "\n",
    "ten_perc = math.floor(len(ordered_vocab_freq) / 10)\n",
    "\n",
    "print(sorted(vocab_freq.keys()))\n",
    "\n",
    "for k, v in ordered_vocab_freq[:ten_perc]:\n",
    "    print(\"{} => {}\".format(k, v))\n",
    "\n",
    "reversed_freq = list(reversed(ordered_vocab_freq))\n",
    "for k, v in reversed_freq[:ten_perc]:\n",
    "    print(\"{} => {}\".format(k, v))\n"
   ]
  },
  {
   "cell_type": "code",
   "execution_count": null,
   "metadata": {},
   "outputs": [],
   "source": []
  }
 ],
 "metadata": {
  "kernelspec": {
   "display_name": "Python 3",
   "language": "python",
   "name": "python3"
  },
  "language_info": {
   "codemirror_mode": {
    "name": "ipython",
    "version": 3
   },
   "file_extension": ".py",
   "mimetype": "text/x-python",
   "name": "python",
   "nbconvert_exporter": "python",
   "pygments_lexer": "ipython3",
   "version": "3.6.8"
  }
 },
 "nbformat": 4,
 "nbformat_minor": 2
}
