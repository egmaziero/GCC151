{
 "cells": [
  {
   "cell_type": "code",
   "execution_count": 9,
   "metadata": {},
   "outputs": [],
   "source": [
    "import nltk\n",
    "import unidecode\n",
    "import string"
   ]
  },
  {
   "cell_type": "markdown",
   "metadata": {},
   "source": [
    "# Normalization\n",
    "### create routines of normalization"
   ]
  },
  {
   "cell_type": "code",
   "execution_count": 12,
   "metadata": {},
   "outputs": [],
   "source": [
    "sent_tokenizer = nltk.data.load('tokenizers/punkt/portuguese.pickle')\n",
    "\n",
    "def remove_accents(text):\n",
    "    return text\n",
    "\n",
    "def remove_punctuation(text):\n",
    "    return text.translate(str.maketrans('','',string.punctuation))\n",
    "\n",
    "def tokenize_sentences(text):\n",
    "    sentences = sent_tokenizer.tokenize(text)\n",
    "    return sentences\n",
    "\n",
    "def tokenize_words(text):\n",
    "    from nltk.tokenize import word_tokenize\n",
    "\n",
    "    return text\n",
    "\n",
    "def lemmatize(text):\n",
    "    return text\n",
    "\n",
    "def stemmize(text):\n",
    "    return text"
   ]
  },
  {
   "cell_type": "code",
   "execution_count": 13,
   "metadata": {},
   "outputs": [
    {
     "name": "stdout",
     "output_type": "stream",
     "text": [
      "fjlksjfkdsff ffjksdf \n"
     ]
    }
   ],
   "source": [
    "s = \"fjlksjfkdsf.f ffjksdf. !\"\n",
    "print(remove_punctuation(s))"
   ]
  },
  {
   "cell_type": "markdown",
   "metadata": {},
   "source": [
    "### use different pipelines of normalization"
   ]
  },
  {
   "cell_type": "code",
   "execution_count": null,
   "metadata": {},
   "outputs": [],
   "source": [
    "def normalization_pipeline(text, remove_accents=False, remove_punctuation=False, tokenize_sentences=False,\n",
    "                           tokenize_words=False, lemmatize=False, stemmize=False):\n",
    "\n",
    "    text = remove_accents(text) if remove_accents else text\n",
    "    text = remove_punctuation(text) if remove_punctuation else text\n",
    "    text = tokenize_sentences(text) if tokenize_sentences else text\n",
    "    text = tokenize_words(text) if tokenize_words else text\n",
    "    text = lemmatize(text) if lemmatize else text\n",
    "    text = stemmize(text) if stemmize else text\n",
    "    \n",
    "    return text"
   ]
  },
  {
   "cell_type": "markdown",
   "metadata": {},
   "source": [
    "### test your normalizations"
   ]
  },
  {
   "cell_type": "code",
   "execution_count": 3,
   "metadata": {},
   "outputs": [
    {
     "name": "stdout",
     "output_type": "stream",
     "text": [
      "Malaga\n"
     ]
    }
   ],
   "source": [
    "accented_string = u'Málaga'\n",
    "# accented_string is of type 'unicode'\n",
    "import unidecode\n",
    "unaccented_string = unidecode.unidecode(accented_string)\n",
    "print(unaccented_string)"
   ]
  },
  {
   "cell_type": "markdown",
   "metadata": {},
   "source": [
    "# N-grams\n",
    "### load corpus"
   ]
  },
  {
   "cell_type": "code",
   "execution_count": 15,
   "metadata": {},
   "outputs": [],
   "source": [
    "import os\n",
    "corpus_path = \"data/corpora/tecnologia/\"\n",
    "\n",
    "files = [f for f in os.listdir(corpus_path) if os.path.isfile(os.path.join(corpus_path, f))]\n",
    "\n",
    "corpus_lines = []\n",
    "for file in files:\n",
    "    with open(os.path.join(corpus_path, file), \"r\") as text_file:\n",
    "        lines = text_file.readlines()\n",
    "        corpus_lines.extend(lines)"
   ]
  },
  {
   "cell_type": "code",
   "execution_count": 18,
   "metadata": {},
   "outputs": [
    {
     "ename": "SyntaxError",
     "evalue": "unexpected EOF while parsing (<ipython-input-18-17f4fa0debdd>, line 6)",
     "output_type": "error",
     "traceback": [
      "\u001b[0;36m  File \u001b[0;32m\"<ipython-input-18-17f4fa0debdd>\"\u001b[0;36m, line \u001b[0;32m6\u001b[0m\n\u001b[0;31m    for sentence in corpus_sentences:\u001b[0m\n\u001b[0m                                     ^\u001b[0m\n\u001b[0;31mSyntaxError\u001b[0m\u001b[0;31m:\u001b[0m unexpected EOF while parsing\n"
     ]
    }
   ],
   "source": [
    "corpus_sentences = []\n",
    "for line in corpus_lines:\n",
    "    corpus_sentences.extend(tokenize_sentences(line))\n",
    "\n",
    "normalized_sentences = []\n",
    "for sentence in corpus_sentences:\n",
    "    "
   ]
  },
  {
   "cell_type": "markdown",
   "metadata": {},
   "source": [
    "### bigrams and trigrams"
   ]
  },
  {
   "cell_type": "code",
   "execution_count": null,
   "metadata": {},
   "outputs": [],
   "source": []
  },
  {
   "cell_type": "markdown",
   "metadata": {},
   "source": [
    "# Text classification"
   ]
  },
  {
   "cell_type": "code",
   "execution_count": null,
   "metadata": {},
   "outputs": [],
   "source": []
  }
 ],
 "metadata": {
  "kernelspec": {
   "display_name": "Python 3",
   "language": "python",
   "name": "python3"
  },
  "language_info": {
   "codemirror_mode": {
    "name": "ipython",
    "version": 3
   },
   "file_extension": ".py",
   "mimetype": "text/x-python",
   "name": "python",
   "nbconvert_exporter": "python",
   "pygments_lexer": "ipython3",
   "version": "3.6.8"
  }
 },
 "nbformat": 4,
 "nbformat_minor": 2
}
